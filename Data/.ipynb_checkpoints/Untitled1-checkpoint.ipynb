{
 "cells": [
  {
   "cell_type": "code",
   "execution_count": 1,
   "metadata": {},
   "outputs": [],
   "source": [
    "import json\n",
    "import math"
   ]
  },
  {
   "cell_type": "code",
   "execution_count": 2,
   "metadata": {},
   "outputs": [],
   "source": [
    "f = open('source_target.json')\n",
    "data = json.load(f)\n",
    "f.close()"
   ]
  },
  {
   "cell_type": "code",
   "execution_count": 3,
   "metadata": {},
   "outputs": [],
   "source": [
    "f = open('abb2full.json')\n",
    "abb2full = json.load(f)\n",
    "f.close()"
   ]
  },
  {
   "cell_type": "code",
   "execution_count": 4,
   "metadata": {},
   "outputs": [],
   "source": [
    "# Returns true if str1 is a subsequence of str2 \n",
    "def isSubSequence(str1,str2): \n",
    "    m = len(str1) \n",
    "    n = len(str2) \n",
    "      \n",
    "    j = 0    # Index of str1 \n",
    "    i = 0    # Index of str2 \n",
    "      \n",
    "    # Traverse both str1 and str2 \n",
    "    # Compare current character of str2 with  \n",
    "    # first unmatched character of str1 \n",
    "    # If matched, then move ahead in str1 \n",
    "      \n",
    "    while j<m and i<n: \n",
    "        if str1[j] == str2[i]:     \n",
    "            j = j+1    \n",
    "        i = i + 1\n",
    "          \n",
    "    # If all characters of str1 matched, then j is equal to m \n",
    "    return j==m "
   ]
  },
  {
   "cell_type": "code",
   "execution_count": 5,
   "metadata": {},
   "outputs": [],
   "source": [
    "source = list(data.keys())"
   ]
  },
  {
   "cell_type": "code",
   "execution_count": 6,
   "metadata": {},
   "outputs": [],
   "source": [
    "unigram = set()\n",
    "bigram = set()\n",
    "trigram = set()\n",
    "quatergram = set()"
   ]
  },
  {
   "cell_type": "code",
   "execution_count": 7,
   "metadata": {},
   "outputs": [],
   "source": [
    "for line in source:\n",
    "    unigram |= set(line.lower())\n",
    "    for i in range(len(line)-1):\n",
    "        bigram.add(line[i:i+2].lower())\n",
    "    for i in range(len(line)-2):\n",
    "        trigram.add(line[i:i+3].lower())\n",
    "    for i in range(len(line)-3):\n",
    "        quatergram.add(line[i:i+4].lower())"
   ]
  },
  {
   "cell_type": "code",
   "execution_count": 8,
   "metadata": {},
   "outputs": [],
   "source": [
    "unigram2abb = dict()\n",
    "bigram2abb = dict()\n",
    "trigram2abb = dict()\n",
    "quatergram2abb = dict()\n",
    "abb_list = list(abb2full.keys())"
   ]
  },
  {
   "cell_type": "code",
   "execution_count": 9,
   "metadata": {},
   "outputs": [],
   "source": [
    "for uni in unigram:\n",
    "    unigram2abb[uni] = []\n",
    "    for abb in abb_list:\n",
    "        if isSubSequence(uni, abb.lower()):\n",
    "            unigram2abb[uni].append(abb)"
   ]
  },
  {
   "cell_type": "code",
   "execution_count": 10,
   "metadata": {},
   "outputs": [],
   "source": [
    "for bi in bigram:\n",
    "    bigram2abb[bi] = []\n",
    "    for abb in abb_list:\n",
    "        if isSubSequence(bi, abb.lower()):\n",
    "            bigram2abb[bi].append(abb)"
   ]
  },
  {
   "cell_type": "code",
   "execution_count": 11,
   "metadata": {},
   "outputs": [],
   "source": [
    "for tri in trigram:\n",
    "    trigram2abb[tri] = []\n",
    "    for abb in abb_list:\n",
    "        if isSubSequence(tri, abb.lower()):\n",
    "            trigram2abb[tri].append(abb)"
   ]
  },
  {
   "cell_type": "code",
   "execution_count": 12,
   "metadata": {},
   "outputs": [],
   "source": [
    "for quater in quatergram:\n",
    "    quatergram2abb[quater] = []\n",
    "    for abb in abb_list:\n",
    "        if isSubSequence(quater, abb.lower()):\n",
    "            quatergram2abb[quater].append(abb)"
   ]
  },
  {
   "cell_type": "code",
   "execution_count": 13,
   "metadata": {},
   "outputs": [],
   "source": [
    "def gram(source, pos, num):\n",
    "    candidate = []\n",
    "    for i in range(pos-num+1, pos+1):\n",
    "        if len(source[i:i+num])==num:\n",
    "            candidate.append(source[i:i+num])\n",
    "    return candidate\n",
    "\n",
    "def source2gram(source):\n",
    "    grams = []\n",
    "    for i in range(len(source)):\n",
    "        uni = gram(source, i, 1)\n",
    "        bi = gram(source, i, 2)\n",
    "        tri = gram(source, i, 3)\n",
    "        quater = gram(source, i, 4)\n",
    "        grams.append([uni, bi, tri, quater])\n",
    "    return grams"
   ]
  },
  {
   "cell_type": "code",
   "execution_count": 14,
   "metadata": {},
   "outputs": [],
   "source": [
    "def source2abbs(source):\n",
    "    grams = source2gram(source)\n",
    "    abbs = []\n",
    "    for gram in grams:\n",
    "        abb = []\n",
    "        # quatergram\n",
    "        for item in gram[3]:\n",
    "            if item in quatergram2abb:\n",
    "                abb += quatergram2abb[item]\n",
    "        if len(abb)>0:\n",
    "            abbs.append(abb)\n",
    "            continue\n",
    "        # trigram\n",
    "        for item in gram[2]:\n",
    "            if item in trigram2abb:\n",
    "                abb += trigram2abb[item]\n",
    "        if len(abb)>0:\n",
    "            abbs.append(abb)\n",
    "            continue\n",
    "        # bigram\n",
    "        for item in gram[1]:\n",
    "            if item in bigram2abb:\n",
    "                abb += bigram2abb[item]\n",
    "        if len(abb)>0:\n",
    "            abbs.append(abb)\n",
    "            continue\n",
    "        #unigram\n",
    "        for item in gram[0]:\n",
    "            if item in unigram2abb:\n",
    "                abb += unigram2abb[item]\n",
    "        abbs.append(abb)\n",
    "    return abbs"
   ]
  },
  {
   "cell_type": "code",
   "execution_count": 15,
   "metadata": {},
   "outputs": [],
   "source": [
    "def softmax(v_list):\n",
    "    exp_list = []\n",
    "    for v in v_list:\n",
    "        exp_list.append(math.exp(v))\n",
    "    sum_exp = sum(exp_list)\n",
    "    for i,v in enumerate(exp_list):\n",
    "        exp_list[i] = v/sum_exp\n",
    "    return exp_list\n",
    "\n",
    "def sortDictByVal(Dict):\n",
    "    ## the val will be softmax\n",
    "    items = []\n",
    "    vals = sorted(softmax(list(Dict.values())), reverse=True)\n",
    "    for k,v in Dict.items():\n",
    "        items.append([k,v])\n",
    "    items = sorted(items, key=lambda x: x[1], reverse=True)\n",
    "    for i in range(len(items)):\n",
    "        items[i][1] = vals[i]\n",
    "    return items\n",
    "\n",
    "def source2full(source):\n",
    "    source_abbs = source2abbs(source)\n",
    "    source_full = []\n",
    "    for abb_list in source_abbs:\n",
    "        full_dict = {}\n",
    "        for abb in abb_list:\n",
    "            full_list = abb2full[abb]\n",
    "            full_text = full_list[0]\n",
    "            full_score = full_list[1]\n",
    "            for i in range(len(full_text)):\n",
    "                if full_text[i] not in full_dict:\n",
    "                    full_dict[full_text[i]]=0\n",
    "                full_dict[full_text[i]]+=1-full_score[i]\n",
    "        full_dict = sortDictByVal(full_dict)\n",
    "        source_full.append(full_dict)\n",
    "    return source_full"
   ]
  },
  {
   "cell_type": "code",
   "execution_count": 21,
   "metadata": {},
   "outputs": [
    {
     "name": "stderr",
     "output_type": "stream",
     "text": [
      "100%|██████████████████████████████████████████████████████████████████████████████| 860/860 [00:00<00:00, 3253.99it/s]\n"
     ]
    }
   ],
   "source": [
    "from tqdm import tqdm\n",
    "source_full = dict()\n",
    "for s in tqdm(source):\n",
    "    source_full[s] = source2full(s)"
   ]
  },
  {
   "cell_type": "code",
   "execution_count": 23,
   "metadata": {},
   "outputs": [],
   "source": [
    "import json\n",
    "f = open('source_full.json','w')\n",
    "json.dump(source_full, f)"
   ]
  },
  {
   "cell_type": "code",
   "execution_count": 24,
   "metadata": {},
   "outputs": [],
   "source": [
    "f.close()"
   ]
  },
  {
   "cell_type": "code",
   "execution_count": null,
   "metadata": {},
   "outputs": [],
   "source": []
  }
 ],
 "metadata": {
  "kernelspec": {
   "display_name": "Python 3",
   "language": "python",
   "name": "python3"
  },
  "language_info": {
   "codemirror_mode": {
    "name": "ipython",
    "version": 3
   },
   "file_extension": ".py",
   "mimetype": "text/x-python",
   "name": "python",
   "nbconvert_exporter": "python",
   "pygments_lexer": "ipython3",
   "version": "3.6.7"
  }
 },
 "nbformat": 4,
 "nbformat_minor": 2
}

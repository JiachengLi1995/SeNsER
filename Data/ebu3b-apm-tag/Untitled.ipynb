{
 "cells": [
  {
   "cell_type": "code",
   "execution_count": 8,
   "metadata": {},
   "outputs": [
    {
     "name": "stdout",
     "output_type": "stream",
     "text": [
      "1079\n",
      "1079\n"
     ]
    }
   ],
   "source": [
    "import copy\n",
    "file_name = 'ap_m.test'\n",
    "f = open(file_name)\n",
    "data_train = []\n",
    "tmp = []\n",
    "\n",
    "for line in f:\n",
    "    \n",
    "    if len(line.split())==0:\n",
    "        data_train.append(tmp)\n",
    "        tmp = []\n",
    "        continue\n",
    "    tmp.append(line.split())\n",
    "if len(tmp)>0:\n",
    "    data_train.append(tmp)\n",
    "f.close()\n",
    "print(len(data_train))\n",
    "data_train = change_apm(data_train)\n",
    "print(len(data_train))\n",
    "f = open(file_name,'w')\n",
    "for line in data_train:\n",
    "    for l in line:\n",
    "        f.write(' '.join(l))\n",
    "        f.write('\\n')\n",
    "    f.write('\\n')\n",
    "f.close()"
   ]
  },
  {
   "cell_type": "code",
   "execution_count": 2,
   "metadata": {},
   "outputs": [],
   "source": [
    "def change_ebu(data):\n",
    "    for j, line in enumerate(data):\n",
    "        if len(line)<5:\n",
    "            continue\n",
    "        s = ''\n",
    "        for i in range(5):\n",
    "            s+=line[i][0]\n",
    "        if s=='ebu3b':\n",
    "            for i in range(5):\n",
    "                tag = data[j][i][1]\n",
    "                if i>2:\n",
    "                    tag = 'I-site'\n",
    "                else:\n",
    "                    tag = tag[:2]+'site'\n",
    "                data[j][i][1] = tag\n",
    "    return data\n",
    "                "
   ]
  },
  {
   "cell_type": "code",
   "execution_count": 6,
   "metadata": {},
   "outputs": [],
   "source": [
    "def change_apm(data):\n",
    "    for j, line in enumerate(data):\n",
    "        if len(line)<4:\n",
    "            continue\n",
    "        s = ''\n",
    "        for i in range(4):\n",
    "            s+=line[i][0]\n",
    "        if s=='ap&m':\n",
    "            for i in range(4):\n",
    "                tag = data[j][i][1]\n",
    "                if i>1:\n",
    "                    tag = 'I-site'\n",
    "                else:\n",
    "                    tag = tag[:2]+'site'\n",
    "                data[j][i][1] = tag\n",
    "    return data"
   ]
  },
  {
   "cell_type": "code",
   "execution_count": null,
   "metadata": {},
   "outputs": [],
   "source": []
  }
 ],
 "metadata": {
  "kernelspec": {
   "display_name": "Python 3",
   "language": "python",
   "name": "python3"
  },
  "language_info": {
   "codemirror_mode": {
    "name": "ipython",
    "version": 3
   },
   "file_extension": ".py",
   "mimetype": "text/x-python",
   "name": "python",
   "nbconvert_exporter": "python",
   "pygments_lexer": "ipython3",
   "version": "3.6.7"
  }
 },
 "nbformat": 4,
 "nbformat_minor": 2
}

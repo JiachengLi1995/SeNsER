{
 "cells": [
  {
   "cell_type": "code",
   "execution_count": 1,
   "metadata": {},
   "outputs": [],
   "source": [
    "def read_file(f):\n",
    "    string = ''\n",
    "    label = set()\n",
    "    data = []\n",
    "    for line in f:\n",
    "        l = line.split()\n",
    "\n",
    "        if len(l)>1:\n",
    "            string+=l[0]\n",
    "            if '-' in l[1]:\n",
    "                label.add(l[1].split('-')[1])\n",
    "        else:\n",
    "            for target in label:\n",
    "                data.append({'abbreviation': string, 'full-text':target})\n",
    "            string=''\n",
    "            label = set()\n",
    "    return data\n",
    "\n",
    "def clean_data(data):\n",
    "    removed_label = ['leftidentifier', 'site','other']\n",
    "    filted_data = []\n",
    "    for line in data:\n",
    "        if line['full-text'] not in removed_label:\n",
    "            filted_data.append(line)\n",
    "    return filted_data"
   ]
  },
  {
   "cell_type": "code",
   "execution_count": 2,
   "metadata": {
    "scrolled": false
   },
   "outputs": [],
   "source": [
    "f = open('ebu3b.train')\n",
    "ebu3b_data = read_file(f)\n",
    "ebu3b_data = clean_data(ebu3b_data)\n",
    "f.close()"
   ]
  },
  {
   "cell_type": "code",
   "execution_count": 4,
   "metadata": {},
   "outputs": [],
   "source": [
    "f = open('apm.test')\n",
    "ap_m_data = read_file(f)\n",
    "ap_m_data = clean_data(ebu3b_data)\n",
    "f.close()"
   ]
  },
  {
   "cell_type": "code",
   "execution_count": 5,
   "metadata": {},
   "outputs": [],
   "source": [
    "data = ebu3b_data + ap_m_data"
   ]
  },
  {
   "cell_type": "code",
   "execution_count": 6,
   "metadata": {},
   "outputs": [],
   "source": [
    "import json\n",
    "f = open('test_sim.json','w')\n",
    "json.dump(data, f)\n",
    "f.close()"
   ]
  },
  {
   "cell_type": "code",
   "execution_count": null,
   "metadata": {},
   "outputs": [],
   "source": []
  }
 ],
 "metadata": {
  "kernelspec": {
   "display_name": "Python 3",
   "language": "python",
   "name": "python3"
  },
  "language_info": {
   "codemirror_mode": {
    "name": "ipython",
    "version": 3
   },
   "file_extension": ".py",
   "mimetype": "text/x-python",
   "name": "python",
   "nbconvert_exporter": "python",
   "pygments_lexer": "ipython3",
   "version": "3.6.7"
  }
 },
 "nbformat": 4,
 "nbformat_minor": 2
}
